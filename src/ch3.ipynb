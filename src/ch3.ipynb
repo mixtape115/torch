{
 "cells": [
  {
   "cell_type": "code",
   "execution_count": 1,
   "id": "b08a2842",
   "metadata": {},
   "outputs": [],
   "source": [
    "import numpy as np\n",
    "import matplotlib.pyplot as plt\n",
    "import torch\n",
    "import torchvision.models as models\n",
    "from torchviz import make_dot"
   ]
  },
  {
   "cell_type": "code",
   "execution_count": 2,
   "id": "3797afcc",
   "metadata": {},
   "outputs": [
    {
     "name": "stdout",
     "output_type": "stream",
     "text": [
      "[[166.   58.7]\n",
      " [176.   75.7]\n",
      " [171.   62.1]\n",
      " [173.   70.4]\n",
      " [169.   60.1]]\n"
     ]
    }
   ],
   "source": [
    "sampleData1 = np.array([\n",
    "    [166, 58.7],\n",
    "    [176.0, 75.7],\n",
    "    [171.0, 62.1],\n",
    "    [173.0, 70.4],\n",
    "    [169.0, 60.1]\n",
    "])\n",
    "print(sampleData1)"
   ]
  },
  {
   "cell_type": "code",
   "execution_count": 3,
   "id": "1a46ca85",
   "metadata": {},
   "outputs": [],
   "source": [
    "x = sampleData1[:,0]\n",
    "y = sampleData1[:,1]"
   ]
  },
  {
   "cell_type": "code",
   "execution_count": 4,
   "id": "5cbb5c57",
   "metadata": {},
   "outputs": [
    {
     "name": "stderr",
     "output_type": "stream",
     "text": [
      "/usr/local/lib/python3.6/dist-packages/matplotlib/backends/backend_agg.py:238: RuntimeWarning: Glyph 36523 missing from current font.\n",
      "  font.set_text(s, 0.0, flags=flags)\n",
      "/usr/local/lib/python3.6/dist-packages/matplotlib/backends/backend_agg.py:238: RuntimeWarning: Glyph 38263 missing from current font.\n",
      "  font.set_text(s, 0.0, flags=flags)\n",
      "/usr/local/lib/python3.6/dist-packages/matplotlib/backends/backend_agg.py:238: RuntimeWarning: Glyph 12392 missing from current font.\n",
      "  font.set_text(s, 0.0, flags=flags)\n",
      "/usr/local/lib/python3.6/dist-packages/matplotlib/backends/backend_agg.py:238: RuntimeWarning: Glyph 20307 missing from current font.\n",
      "  font.set_text(s, 0.0, flags=flags)\n",
      "/usr/local/lib/python3.6/dist-packages/matplotlib/backends/backend_agg.py:238: RuntimeWarning: Glyph 37325 missing from current font.\n",
      "  font.set_text(s, 0.0, flags=flags)\n",
      "/usr/local/lib/python3.6/dist-packages/matplotlib/backends/backend_agg.py:238: RuntimeWarning: Glyph 12398 missing from current font.\n",
      "  font.set_text(s, 0.0, flags=flags)\n",
      "/usr/local/lib/python3.6/dist-packages/matplotlib/backends/backend_agg.py:238: RuntimeWarning: Glyph 38306 missing from current font.\n",
      "  font.set_text(s, 0.0, flags=flags)\n",
      "/usr/local/lib/python3.6/dist-packages/matplotlib/backends/backend_agg.py:238: RuntimeWarning: Glyph 20418 missing from current font.\n",
      "  font.set_text(s, 0.0, flags=flags)\n",
      "Font 'default' does not have a glyph for '\\u8eab' [U+8eab], substituting with a dummy symbol.\n",
      "Font 'default' does not have a glyph for '\\u9577' [U+9577], substituting with a dummy symbol.\n",
      "Font 'default' does not have a glyph for '\\u4f53' [U+4f53], substituting with a dummy symbol.\n",
      "Font 'default' does not have a glyph for '\\u91cd' [U+91cd], substituting with a dummy symbol.\n",
      "Font 'default' does not have a glyph for '\\u8eab' [U+8eab], substituting with a dummy symbol.\n",
      "Font 'default' does not have a glyph for '\\u9577' [U+9577], substituting with a dummy symbol.\n",
      "Font 'default' does not have a glyph for '\\u4f53' [U+4f53], substituting with a dummy symbol.\n",
      "Font 'default' does not have a glyph for '\\u91cd' [U+91cd], substituting with a dummy symbol.\n",
      "/usr/local/lib/python3.6/dist-packages/matplotlib/backends/backend_agg.py:201: RuntimeWarning: Glyph 36523 missing from current font.\n",
      "  font.set_text(s, 0, flags=flags)\n",
      "/usr/local/lib/python3.6/dist-packages/matplotlib/backends/backend_agg.py:201: RuntimeWarning: Glyph 38263 missing from current font.\n",
      "  font.set_text(s, 0, flags=flags)\n",
      "/usr/local/lib/python3.6/dist-packages/matplotlib/backends/backend_agg.py:201: RuntimeWarning: Glyph 12392 missing from current font.\n",
      "  font.set_text(s, 0, flags=flags)\n",
      "/usr/local/lib/python3.6/dist-packages/matplotlib/backends/backend_agg.py:201: RuntimeWarning: Glyph 20307 missing from current font.\n",
      "  font.set_text(s, 0, flags=flags)\n",
      "/usr/local/lib/python3.6/dist-packages/matplotlib/backends/backend_agg.py:201: RuntimeWarning: Glyph 37325 missing from current font.\n",
      "  font.set_text(s, 0, flags=flags)\n",
      "/usr/local/lib/python3.6/dist-packages/matplotlib/backends/backend_agg.py:201: RuntimeWarning: Glyph 12398 missing from current font.\n",
      "  font.set_text(s, 0, flags=flags)\n",
      "/usr/local/lib/python3.6/dist-packages/matplotlib/backends/backend_agg.py:201: RuntimeWarning: Glyph 38306 missing from current font.\n",
      "  font.set_text(s, 0, flags=flags)\n",
      "/usr/local/lib/python3.6/dist-packages/matplotlib/backends/backend_agg.py:201: RuntimeWarning: Glyph 20418 missing from current font.\n",
      "  font.set_text(s, 0, flags=flags)\n"
     ]
    },
    {
     "data": {
      "image/png": "[encoded data removed]",
      "text/plain": [
       "<Figure size 432x288 with 1 Axes>"
      ]
     },
     "metadata": {
      "needs_background": "light"
     },
     "output_type": "display_data"
    }
   ],
   "source": [
    "plt.scatter(x, y, c='k', s=50)\n",
    "plt.xlabel('$x$: 身長(cm)')\n",
    "plt.ylabel('$y$: 体重(kg)')\n",
    "plt.title('身長と体重の関係')\n",
    "plt.show()"
   ]
  },
  {
   "cell_type": "code",
   "execution_count": 5,
   "id": "10eb817f",
   "metadata": {},
   "outputs": [],
   "source": [
    "X = x - x.mean()\n",
    "Y = y - y.mean()"
   ]
  },
  {
   "cell_type": "code",
   "execution_count": 6,
   "id": "4d11b4b9",
   "metadata": {},
   "outputs": [
    {
     "name": "stderr",
     "output_type": "stream",
     "text": [
      "/usr/local/lib/python3.6/dist-packages/matplotlib/backends/backend_agg.py:238: RuntimeWarning: Glyph 21152 missing from current font.\n",
      "  font.set_text(s, 0.0, flags=flags)\n",
      "/usr/local/lib/python3.6/dist-packages/matplotlib/backends/backend_agg.py:238: RuntimeWarning: Glyph 24037 missing from current font.\n",
      "  font.set_text(s, 0.0, flags=flags)\n",
      "/usr/local/lib/python3.6/dist-packages/matplotlib/backends/backend_agg.py:238: RuntimeWarning: Glyph 24460 missing from current font.\n",
      "  font.set_text(s, 0.0, flags=flags)\n",
      "/usr/local/lib/python3.6/dist-packages/matplotlib/backends/backend_agg.py:201: RuntimeWarning: Glyph 21152 missing from current font.\n",
      "  font.set_text(s, 0, flags=flags)\n",
      "/usr/local/lib/python3.6/dist-packages/matplotlib/backends/backend_agg.py:201: RuntimeWarning: Glyph 24037 missing from current font.\n",
      "  font.set_text(s, 0, flags=flags)\n",
      "/usr/local/lib/python3.6/dist-packages/matplotlib/backends/backend_agg.py:201: RuntimeWarning: Glyph 24460 missing from current font.\n",
      "  font.set_text(s, 0, flags=flags)\n"
     ]
    },
    {
     "data": {
      "image/png": "[encoded data removed]",
      "text/plain": [
       "<Figure size 432x288 with 1 Axes>"
      ]
     },
     "metadata": {
      "needs_background": "light"
     },
     "output_type": "display_data"
    }
   ],
   "source": [
    "plt.scatter(X, Y, c='k', s=50)\n",
    "plt.xlabel('$x$')\n",
    "plt.ylabel('$y$')\n",
    "plt.title('加工後の身長と体重の関係')\n",
    "plt.show()"
   ]
  },
  {
   "cell_type": "code",
   "execution_count": 7,
   "id": "73f86b17",
   "metadata": {},
   "outputs": [],
   "source": [
    "X = torch.tensor(X).float()\n",
    "Y = torch.tensor(Y).float()"
   ]
  },
  {
   "cell_type": "code",
   "execution_count": 8,
   "id": "fa533c02",
   "metadata": {},
   "outputs": [
    {
     "name": "stdout",
     "output_type": "stream",
     "text": [
      "tensor([-5.,  5.,  0.,  2., -2.])\n",
      "tensor([-6.7000, 10.3000, -3.3000,  5.0000, -5.3000])\n"
     ]
    }
   ],
   "source": [
    "print(X)\n",
    "print(Y)"
   ]
  },
  {
   "cell_type": "code",
   "execution_count": 9,
   "id": "259b635f",
   "metadata": {},
   "outputs": [],
   "source": [
    "W = torch.tensor(1.0, requires_grad=True).float()\n",
    "B = torch.tensor(1.0, requires_grad=True).float()"
   ]
  },
  {
   "cell_type": "code",
   "execution_count": 10,
   "id": "fe855bbf",
   "metadata": {},
   "outputs": [],
   "source": [
    "def pred(X):\n",
    "    return W * X + B"
   ]
  },
  {
   "cell_type": "code",
   "execution_count": 11,
   "id": "2c06c1fd",
   "metadata": {},
   "outputs": [],
   "source": [
    "Yp = pred(X)"
   ]
  },
  {
   "cell_type": "code",
   "execution_count": 12,
   "id": "bd1ab9bc",
   "metadata": {},
   "outputs": [
    {
     "name": "stdout",
     "output_type": "stream",
     "text": [
      "tensor([-4.,  6.,  1.,  3., -1.], grad_fn=<AddBackward0>)\n"
     ]
    }
   ],
   "source": [
    "print(Yp)"
   ]
  },
  {
   "cell_type": "code",
   "execution_count": 13,
   "id": "005a76c3",
   "metadata": {},
   "outputs": [
    {
     "data": {
      "image/svg+xml": [
       "<?xml version=\"1.0\" encoding=\"UTF-8\" standalone=\"no\"?>\n",
       "<!DOCTYPE svg PUBLIC \"-//W3C//DTD SVG 1.1//EN\"\n",
       " \"http://www.w3.org/Graphics/SVG/1.1/DTD/svg11.dtd\">\n",
       "<!-- Generated by graphviz version 2.40.1 (20161225.0304)\n",
       " -->\n",
       "<!-- Title: %3 Pages: 1 -->\n",
       "<svg width=\"222pt\" height=\"281pt\"\n",
       " viewBox=\"0.00 0.00 222.00 281.00\" xmlns=\"http://www.w3.org/2000/svg\" xmlns:xlink=\"http://www.w3.org/1999/xlink\">\n",
       "<g id=\"graph0\" class=\"graph\" transform=\"scale(1 1) rotate(0) translate(4 277)\">\n",
       "<title>%3</title>\n",
       "<polygon fill=\"#ffffff\" stroke=\"transparent\" points=\"-4,4 -4,-277 218,-277 218,4 -4,4\"/>\n",
       "<!-- 140232852502568 -->\n",
       "<g id=\"node1\" class=\"node\">\n",
       "<title>140232852502568</title>\n",
       "<polygon fill=\"#caff70\" stroke=\"#000000\" points=\"133.5,-31 79.5,-31 79.5,0 133.5,0 133.5,-31\"/>\n",
       "<text text-anchor=\"middle\" x=\"106.5\" y=\"-7\" font-family=\"monospace\" font-size=\"10.00\" fill=\"#000000\"> (5)</text>\n",
       "</g>\n",
       "<!-- 140232852956104 -->\n",
       "<g id=\"node2\" class=\"node\">\n",
       "<title>140232852956104</title>\n",
       "<polygon fill=\"#d3d3d3\" stroke=\"#000000\" points=\"151,-86 62,-86 62,-67 151,-67 151,-86\"/>\n",
       "<text text-anchor=\"middle\" x=\"106.5\" y=\"-74\" font-family=\"monospace\" font-size=\"10.00\" fill=\"#000000\">AddBackward0</text>\n",
       "</g>\n",
       "<!-- 140232852956104&#45;&gt;140232852502568 -->\n",
       "<g id=\"edge6\" class=\"edge\">\n",
       "<title>140232852956104&#45;&gt;140232852502568</title>\n",
       "<path fill=\"none\" stroke=\"#000000\" d=\"M106.5,-66.9688C106.5,-60.1289 106.5,-50.5621 106.5,-41.5298\"/>\n",
       "<polygon fill=\"#000000\" stroke=\"#000000\" points=\"110.0001,-41.3678 106.5,-31.3678 103.0001,-41.3678 110.0001,-41.3678\"/>\n",
       "</g>\n",
       "<!-- 140232852957112 -->\n",
       "<g id=\"node3\" class=\"node\">\n",
       "<title>140232852957112</title>\n",
       "<polygon fill=\"#d3d3d3\" stroke=\"#000000\" points=\"95,-141 6,-141 6,-122 95,-122 95,-141\"/>\n",
       "<text text-anchor=\"middle\" x=\"50.5\" y=\"-129\" font-family=\"monospace\" font-size=\"10.00\" fill=\"#000000\">MulBackward0</text>\n",
       "</g>\n",
       "<!-- 140232852957112&#45;&gt;140232852956104 -->\n",
       "<g id=\"edge1\" class=\"edge\">\n",
       "<title>140232852957112&#45;&gt;140232852956104</title>\n",
       "<path fill=\"none\" stroke=\"#000000\" d=\"M60.2545,-121.9197C68.1865,-114.1293 79.5788,-102.9405 89.0712,-93.6176\"/>\n",
       "<polygon fill=\"#000000\" stroke=\"#000000\" points=\"91.7982,-95.845 96.4802,-86.3408 86.8932,-90.8509 91.7982,-95.845\"/>\n",
       "</g>\n",
       "<!-- 140232852018176 -->\n",
       "<g id=\"node4\" class=\"node\">\n",
       "<title>140232852018176</title>\n",
       "<polygon fill=\"#d3d3d3\" stroke=\"#000000\" points=\"101,-201.5 0,-201.5 0,-182.5 101,-182.5 101,-201.5\"/>\n",
       "<text text-anchor=\"middle\" x=\"50.5\" y=\"-189.5\" font-family=\"monospace\" font-size=\"10.00\" fill=\"#000000\">AccumulateGrad</text>\n",
       "</g>\n",
       "<!-- 140232852018176&#45;&gt;140232852957112 -->\n",
       "<g id=\"edge2\" class=\"edge\">\n",
       "<title>140232852018176&#45;&gt;140232852957112</title>\n",
       "<path fill=\"none\" stroke=\"#000000\" d=\"M50.5,-182.2796C50.5,-174.0376 50.5,-161.9457 50.5,-151.629\"/>\n",
       "<polygon fill=\"#000000\" stroke=\"#000000\" points=\"54.0001,-151.3972 50.5,-141.3972 47.0001,-151.3973 54.0001,-151.3972\"/>\n",
       "</g>\n",
       "<!-- 140238339415352 -->\n",
       "<g id=\"node5\" class=\"node\">\n",
       "<title>140238339415352</title>\n",
       "<polygon fill=\"#add8e6\" stroke=\"#000000\" points=\"77.5,-273 23.5,-273 23.5,-243 77.5,-243 77.5,-273\"/>\n",
       "<text text-anchor=\"middle\" x=\"50.5\" y=\"-261\" font-family=\"monospace\" font-size=\"10.00\" fill=\"#000000\">W</text>\n",
       "<text text-anchor=\"middle\" x=\"50.5\" y=\"-250\" font-family=\"monospace\" font-size=\"10.00\" fill=\"#000000\"> ()</text>\n",
       "</g>\n",
       "<!-- 140238339415352&#45;&gt;140232852018176 -->\n",
       "<g id=\"edge3\" class=\"edge\">\n",
       "<title>140238339415352&#45;&gt;140232852018176</title>\n",
       "<path fill=\"none\" stroke=\"#000000\" d=\"M50.5,-242.6924C50.5,-233.5067 50.5,-221.7245 50.5,-211.8312\"/>\n",
       "<polygon fill=\"#000000\" stroke=\"#000000\" points=\"54.0001,-211.703 50.5,-201.7031 47.0001,-211.7031 54.0001,-211.703\"/>\n",
       "</g>\n",
       "<!-- 140232851965040 -->\n",
       "<g id=\"node6\" class=\"node\">\n",
       "<title>140232851965040</title>\n",
       "<polygon fill=\"#d3d3d3\" stroke=\"#000000\" points=\"214,-141 113,-141 113,-122 214,-122 214,-141\"/>\n",
       "<text text-anchor=\"middle\" x=\"163.5\" y=\"-129\" font-family=\"monospace\" font-size=\"10.00\" fill=\"#000000\">AccumulateGrad</text>\n",
       "</g>\n",
       "<!-- 140232851965040&#45;&gt;140232852956104 -->\n",
       "<g id=\"edge4\" class=\"edge\">\n",
       "<title>140232851965040&#45;&gt;140232852956104</title>\n",
       "<path fill=\"none\" stroke=\"#000000\" d=\"M153.5714,-121.9197C145.4169,-114.0514 133.6697,-102.7164 123.9508,-93.3385\"/>\n",
       "<polygon fill=\"#000000\" stroke=\"#000000\" points=\"126.3252,-90.7659 116.6987,-86.3408 121.4646,-95.8032 126.3252,-90.7659\"/>\n",
       "</g>\n",
       "<!-- 140238339415568 -->\n",
       "<g id=\"node7\" class=\"node\">\n",
       "<title>140238339415568</title>\n",
       "<polygon fill=\"#add8e6\" stroke=\"#000000\" points=\"190.5,-207 136.5,-207 136.5,-177 190.5,-177 190.5,-207\"/>\n",
       "<text text-anchor=\"middle\" x=\"163.5\" y=\"-195\" font-family=\"monospace\" font-size=\"10.00\" fill=\"#000000\">B</text>\n",
       "<text text-anchor=\"middle\" x=\"163.5\" y=\"-184\" font-family=\"monospace\" font-size=\"10.00\" fill=\"#000000\"> ()</text>\n",
       "</g>\n",
       "<!-- 140238339415568&#45;&gt;140232851965040 -->\n",
       "<g id=\"edge5\" class=\"edge\">\n",
       "<title>140238339415568&#45;&gt;140232851965040</title>\n",
       "<path fill=\"none\" stroke=\"#000000\" d=\"M163.5,-176.7333C163.5,-169.0322 163.5,-159.5977 163.5,-151.3414\"/>\n",
       "<polygon fill=\"#000000\" stroke=\"#000000\" points=\"167.0001,-151.0864 163.5,-141.0864 160.0001,-151.0864 167.0001,-151.0864\"/>\n",
       "</g>\n",
       "</g>\n",
       "</svg>\n"
      ],
      "text/plain": [
       "<graphviz.graphs.Digraph at 0x7f8a8155a828>"
      ]
     },
     "metadata": {},
     "output_type": "display_data"
    }
   ],
   "source": [
    "#予測値の計算グラフ\n",
    "\n",
    "params = {'W': W, 'B' : B}\n",
    "g = make_dot(Yp, params=params)\n",
    "display(g)"
   ]
  },
  {
   "cell_type": "code",
   "execution_count": 14,
   "id": "fbc454cb",
   "metadata": {},
   "outputs": [],
   "source": [
    "#平均二条誤差\n",
    "\n",
    "def mse(Yp, Y):\n",
    "    loss = ((Yp - Y) ** 2).mean()\n",
    "    return loss"
   ]
  },
  {
   "cell_type": "code",
   "execution_count": 15,
   "id": "ec2a12f4",
   "metadata": {},
   "outputs": [],
   "source": [
    "loss = mse(Yp, Y)"
   ]
  },
  {
   "cell_type": "code",
   "execution_count": 16,
   "id": "f43617ae",
   "metadata": {},
   "outputs": [
    {
     "name": "stdout",
     "output_type": "stream",
     "text": [
      "tensor(13.3520, grad_fn=<MeanBackward0>)\n"
     ]
    }
   ],
   "source": [
    "print(loss)"
   ]
  },
  {
   "cell_type": "code",
   "execution_count": 17,
   "id": "2c3675ea",
   "metadata": {},
   "outputs": [
    {
     "data": {
      "image/svg+xml": [
       "<?xml version=\"1.0\" encoding=\"UTF-8\" standalone=\"no\"?>\n",
       "<!DOCTYPE svg PUBLIC \"-//W3C//DTD SVG 1.1//EN\"\n",
       " \"http://www.w3.org/Graphics/SVG/1.1/DTD/svg11.dtd\">\n",
       "<!-- Generated by graphviz version 2.40.1 (20161225.0304)\n",
       " -->\n",
       "<!-- Title: %3 Pages: 1 -->\n",
       "<svg width=\"222pt\" height=\"446pt\"\n",
       " viewBox=\"0.00 0.00 222.00 446.00\" xmlns=\"http://www.w3.org/2000/svg\" xmlns:xlink=\"http://www.w3.org/1999/xlink\">\n",
       "<g id=\"graph0\" class=\"graph\" transform=\"scale(1 1) rotate(0) translate(4 442)\">\n",
       "<title>%3</title>\n",
       "<polygon fill=\"#ffffff\" stroke=\"transparent\" points=\"-4,4 -4,-442 218,-442 218,4 -4,4\"/>\n",
       "<!-- 140232988529576 -->\n",
       "<g id=\"node1\" class=\"node\">\n",
       "<title>140232988529576</title>\n",
       "<polygon fill=\"#caff70\" stroke=\"#000000\" points=\"133.5,-31 79.5,-31 79.5,0 133.5,0 133.5,-31\"/>\n",
       "<text text-anchor=\"middle\" x=\"106.5\" y=\"-7\" font-family=\"monospace\" font-size=\"10.00\" fill=\"#000000\"> ()</text>\n",
       "</g>\n",
       "<!-- 140232851812080 -->\n",
       "<g id=\"node2\" class=\"node\">\n",
       "<title>140232851812080</title>\n",
       "<polygon fill=\"#d3d3d3\" stroke=\"#000000\" points=\"154,-86 59,-86 59,-67 154,-67 154,-86\"/>\n",
       "<text text-anchor=\"middle\" x=\"106.5\" y=\"-74\" font-family=\"monospace\" font-size=\"10.00\" fill=\"#000000\">MeanBackward0</text>\n",
       "</g>\n",
       "<!-- 140232851812080&#45;&gt;140232988529576 -->\n",
       "<g id=\"edge9\" class=\"edge\">\n",
       "<title>140232851812080&#45;&gt;140232988529576</title>\n",
       "<path fill=\"none\" stroke=\"#000000\" d=\"M106.5,-66.9688C106.5,-60.1289 106.5,-50.5621 106.5,-41.5298\"/>\n",
       "<polygon fill=\"#000000\" stroke=\"#000000\" points=\"110.0001,-41.3678 106.5,-31.3678 103.0001,-41.3678 110.0001,-41.3678\"/>\n",
       "</g>\n",
       "<!-- 140232852048472 -->\n",
       "<g id=\"node3\" class=\"node\">\n",
       "<title>140232852048472</title>\n",
       "<polygon fill=\"#d3d3d3\" stroke=\"#000000\" points=\"151,-141 62,-141 62,-122 151,-122 151,-141\"/>\n",
       "<text text-anchor=\"middle\" x=\"106.5\" y=\"-129\" font-family=\"monospace\" font-size=\"10.00\" fill=\"#000000\">PowBackward0</text>\n",
       "</g>\n",
       "<!-- 140232852048472&#45;&gt;140232851812080 -->\n",
       "<g id=\"edge1\" class=\"edge\">\n",
       "<title>140232852048472&#45;&gt;140232851812080</title>\n",
       "<path fill=\"none\" stroke=\"#000000\" d=\"M106.5,-121.9197C106.5,-114.9083 106.5,-105.1442 106.5,-96.4652\"/>\n",
       "<polygon fill=\"#000000\" stroke=\"#000000\" points=\"110.0001,-96.3408 106.5,-86.3408 103.0001,-96.3409 110.0001,-96.3408\"/>\n",
       "</g>\n",
       "<!-- 140232852046120 -->\n",
       "<g id=\"node4\" class=\"node\">\n",
       "<title>140232852046120</title>\n",
       "<polygon fill=\"#d3d3d3\" stroke=\"#000000\" points=\"151,-196 62,-196 62,-177 151,-177 151,-196\"/>\n",
       "<text text-anchor=\"middle\" x=\"106.5\" y=\"-184\" font-family=\"monospace\" font-size=\"10.00\" fill=\"#000000\">SubBackward0</text>\n",
       "</g>\n",
       "<!-- 140232852046120&#45;&gt;140232852048472 -->\n",
       "<g id=\"edge2\" class=\"edge\">\n",
       "<title>140232852046120&#45;&gt;140232852048472</title>\n",
       "<path fill=\"none\" stroke=\"#000000\" d=\"M106.5,-176.9197C106.5,-169.9083 106.5,-160.1442 106.5,-151.4652\"/>\n",
       "<polygon fill=\"#000000\" stroke=\"#000000\" points=\"110.0001,-151.3408 106.5,-141.3408 103.0001,-151.3409 110.0001,-151.3408\"/>\n",
       "</g>\n",
       "<!-- 140232852956104 -->\n",
       "<g id=\"node5\" class=\"node\">\n",
       "<title>140232852956104</title>\n",
       "<polygon fill=\"#d3d3d3\" stroke=\"#000000\" points=\"151,-251 62,-251 62,-232 151,-232 151,-251\"/>\n",
       "<text text-anchor=\"middle\" x=\"106.5\" y=\"-239\" font-family=\"monospace\" font-size=\"10.00\" fill=\"#000000\">AddBackward0</text>\n",
       "</g>\n",
       "<!-- 140232852956104&#45;&gt;140232852046120 -->\n",
       "<g id=\"edge3\" class=\"edge\">\n",
       "<title>140232852956104&#45;&gt;140232852046120</title>\n",
       "<path fill=\"none\" stroke=\"#000000\" d=\"M106.5,-231.9197C106.5,-224.9083 106.5,-215.1442 106.5,-206.4652\"/>\n",
       "<polygon fill=\"#000000\" stroke=\"#000000\" points=\"110.0001,-206.3408 106.5,-196.3408 103.0001,-206.3409 110.0001,-206.3408\"/>\n",
       "</g>\n",
       "<!-- 140232852957112 -->\n",
       "<g id=\"node6\" class=\"node\">\n",
       "<title>140232852957112</title>\n",
       "<polygon fill=\"#d3d3d3\" stroke=\"#000000\" points=\"95,-306 6,-306 6,-287 95,-287 95,-306\"/>\n",
       "<text text-anchor=\"middle\" x=\"50.5\" y=\"-294\" font-family=\"monospace\" font-size=\"10.00\" fill=\"#000000\">MulBackward0</text>\n",
       "</g>\n",
       "<!-- 140232852957112&#45;&gt;140232852956104 -->\n",
       "<g id=\"edge4\" class=\"edge\">\n",
       "<title>140232852957112&#45;&gt;140232852956104</title>\n",
       "<path fill=\"none\" stroke=\"#000000\" d=\"M60.2545,-286.9197C68.1865,-279.1293 79.5788,-267.9405 89.0712,-258.6176\"/>\n",
       "<polygon fill=\"#000000\" stroke=\"#000000\" points=\"91.7982,-260.845 96.4802,-251.3408 86.8932,-255.8509 91.7982,-260.845\"/>\n",
       "</g>\n",
       "<!-- 140232852018176 -->\n",
       "<g id=\"node7\" class=\"node\">\n",
       "<title>140232852018176</title>\n",
       "<polygon fill=\"#d3d3d3\" stroke=\"#000000\" points=\"101,-366.5 0,-366.5 0,-347.5 101,-347.5 101,-366.5\"/>\n",
       "<text text-anchor=\"middle\" x=\"50.5\" y=\"-354.5\" font-family=\"monospace\" font-size=\"10.00\" fill=\"#000000\">AccumulateGrad</text>\n",
       "</g>\n",
       "<!-- 140232852018176&#45;&gt;140232852957112 -->\n",
       "<g id=\"edge5\" class=\"edge\">\n",
       "<title>140232852018176&#45;&gt;140232852957112</title>\n",
       "<path fill=\"none\" stroke=\"#000000\" d=\"M50.5,-347.2796C50.5,-339.0376 50.5,-326.9457 50.5,-316.629\"/>\n",
       "<polygon fill=\"#000000\" stroke=\"#000000\" points=\"54.0001,-316.3972 50.5,-306.3972 47.0001,-316.3973 54.0001,-316.3972\"/>\n",
       "</g>\n",
       "<!-- 140238339415352 -->\n",
       "<g id=\"node8\" class=\"node\">\n",
       "<title>140238339415352</title>\n",
       "<polygon fill=\"#add8e6\" stroke=\"#000000\" points=\"77.5,-438 23.5,-438 23.5,-408 77.5,-408 77.5,-438\"/>\n",
       "<text text-anchor=\"middle\" x=\"50.5\" y=\"-426\" font-family=\"monospace\" font-size=\"10.00\" fill=\"#000000\">W</text>\n",
       "<text text-anchor=\"middle\" x=\"50.5\" y=\"-415\" font-family=\"monospace\" font-size=\"10.00\" fill=\"#000000\"> ()</text>\n",
       "</g>\n",
       "<!-- 140238339415352&#45;&gt;140232852018176 -->\n",
       "<g id=\"edge6\" class=\"edge\">\n",
       "<title>140238339415352&#45;&gt;140232852018176</title>\n",
       "<path fill=\"none\" stroke=\"#000000\" d=\"M50.5,-407.6924C50.5,-398.5067 50.5,-386.7245 50.5,-376.8312\"/>\n",
       "<polygon fill=\"#000000\" stroke=\"#000000\" points=\"54.0001,-376.703 50.5,-366.7031 47.0001,-376.7031 54.0001,-376.703\"/>\n",
       "</g>\n",
       "<!-- 140232851965040 -->\n",
       "<g id=\"node9\" class=\"node\">\n",
       "<title>140232851965040</title>\n",
       "<polygon fill=\"#d3d3d3\" stroke=\"#000000\" points=\"214,-306 113,-306 113,-287 214,-287 214,-306\"/>\n",
       "<text text-anchor=\"middle\" x=\"163.5\" y=\"-294\" font-family=\"monospace\" font-size=\"10.00\" fill=\"#000000\">AccumulateGrad</text>\n",
       "</g>\n",
       "<!-- 140232851965040&#45;&gt;140232852956104 -->\n",
       "<g id=\"edge7\" class=\"edge\">\n",
       "<title>140232851965040&#45;&gt;140232852956104</title>\n",
       "<path fill=\"none\" stroke=\"#000000\" d=\"M153.5714,-286.9197C145.4169,-279.0514 133.6697,-267.7164 123.9508,-258.3385\"/>\n",
       "<polygon fill=\"#000000\" stroke=\"#000000\" points=\"126.3252,-255.7659 116.6987,-251.3408 121.4646,-260.8032 126.3252,-255.7659\"/>\n",
       "</g>\n",
       "<!-- 140238339415568 -->\n",
       "<g id=\"node10\" class=\"node\">\n",
       "<title>140238339415568</title>\n",
       "<polygon fill=\"#add8e6\" stroke=\"#000000\" points=\"190.5,-372 136.5,-372 136.5,-342 190.5,-342 190.5,-372\"/>\n",
       "<text text-anchor=\"middle\" x=\"163.5\" y=\"-360\" font-family=\"monospace\" font-size=\"10.00\" fill=\"#000000\">B</text>\n",
       "<text text-anchor=\"middle\" x=\"163.5\" y=\"-349\" font-family=\"monospace\" font-size=\"10.00\" fill=\"#000000\"> ()</text>\n",
       "</g>\n",
       "<!-- 140238339415568&#45;&gt;140232851965040 -->\n",
       "<g id=\"edge8\" class=\"edge\">\n",
       "<title>140238339415568&#45;&gt;140232851965040</title>\n",
       "<path fill=\"none\" stroke=\"#000000\" d=\"M163.5,-341.7333C163.5,-334.0322 163.5,-324.5977 163.5,-316.3414\"/>\n",
       "<polygon fill=\"#000000\" stroke=\"#000000\" points=\"167.0001,-316.0864 163.5,-306.0864 160.0001,-316.0864 167.0001,-316.0864\"/>\n",
       "</g>\n",
       "</g>\n",
       "</svg>\n"
      ],
      "text/plain": [
       "<graphviz.graphs.Digraph at 0x7f8a81516a58>"
      ]
     },
     "metadata": {},
     "output_type": "display_data"
    }
   ],
   "source": [
    "# 損失の計算グラフ\n",
    "\n",
    "params = {'W': W, 'B' : B}\n",
    "g = make_dot(loss, params=params)\n",
    "display(g)"
   ]
  },
  {
   "cell_type": "code",
   "execution_count": 18,
   "id": "2af180fc",
   "metadata": {},
   "outputs": [],
   "source": [
    "#勾配計算\n",
    "\n",
    "loss.backward()"
   ]
  },
  {
   "cell_type": "code",
   "execution_count": 19,
   "id": "62fb4c06",
   "metadata": {},
   "outputs": [
    {
     "name": "stdout",
     "output_type": "stream",
     "text": [
      "tensor(-19.0400)\n",
      "tensor(2.0000)\n"
     ]
    }
   ],
   "source": [
    "#勾配値確認\n",
    "\n",
    "print(W.grad)\n",
    "print(B.grad)"
   ]
  },
  {
   "cell_type": "code",
   "execution_count": 20,
   "id": "b4483a8b",
   "metadata": {},
   "outputs": [],
   "source": [
    "lr = 0.001"
   ]
  },
  {
   "cell_type": "code",
   "execution_count": 21,
   "id": "8f7c50a0",
   "metadata": {},
   "outputs": [],
   "source": [
    "with torch.no_grad():\n",
    "    W -= lr * W.grad\n",
    "    B -= lr * B.grad\n",
    "    \n",
    "    W.grad.zero_()\n",
    "    B.grad.zero_()"
   ]
  },
  {
   "cell_type": "code",
   "execution_count": 22,
   "id": "52f49e34",
   "metadata": {},
   "outputs": [
    {
     "name": "stdout",
     "output_type": "stream",
     "text": [
      "tensor(1.0190, requires_grad=True)\n",
      "tensor(0.9980, requires_grad=True)\n",
      "tensor(0.)\n",
      "tensor(0.)\n"
     ]
    }
   ],
   "source": [
    "print(W)\n",
    "print(B)\n",
    "print(W.grad)\n",
    "print(B.grad)"
   ]
  },
  {
   "cell_type": "code",
   "execution_count": 23,
   "id": "69118255",
   "metadata": {},
   "outputs": [],
   "source": [
    "#初期化\n",
    "\n",
    "W = torch.tensor(1.0, requires_grad=True).float()\n",
    "B = torch.tensor(1.0, requires_grad=True).float()\n",
    "\n",
    "num_epochs = 500\n",
    "\n",
    "lr = 0.001\n",
    "\n",
    "history = np.zeros((0, 2))"
   ]
  },
  {
   "cell_type": "code",
   "execution_count": 24,
   "id": "b4ce67ab",
   "metadata": {},
   "outputs": [
    {
     "name": "stdout",
     "output_type": "stream",
     "text": [
      "epoch = 0 loss = 13.3520\n",
      "epoch = 10 loss = 10.3855\n",
      "epoch = 20 loss = 8.5173\n",
      "epoch = 30 loss = 7.3364\n",
      "epoch = 40 loss = 6.5858\n",
      "epoch = 50 loss = 6.1047\n",
      "epoch = 60 loss = 5.7927\n",
      "epoch = 70 loss = 5.5868\n",
      "epoch = 80 loss = 5.4476\n",
      "epoch = 90 loss = 5.3507\n",
      "epoch = 100 loss = 5.2805\n",
      "epoch = 110 loss = 5.2275\n",
      "epoch = 120 loss = 5.1855\n",
      "epoch = 130 loss = 5.1507\n",
      "epoch = 140 loss = 5.1208\n",
      "epoch = 150 loss = 5.0943\n",
      "epoch = 160 loss = 5.0703\n",
      "epoch = 170 loss = 5.0480\n",
      "epoch = 180 loss = 5.0271\n",
      "epoch = 190 loss = 5.0074\n",
      "epoch = 200 loss = 4.9887\n",
      "epoch = 210 loss = 4.9708\n",
      "epoch = 220 loss = 4.9537\n",
      "epoch = 230 loss = 4.9373\n",
      "epoch = 240 loss = 4.9217\n",
      "epoch = 250 loss = 4.9066\n",
      "epoch = 260 loss = 4.8922\n",
      "epoch = 270 loss = 4.8783\n",
      "epoch = 280 loss = 4.8650\n",
      "epoch = 290 loss = 4.8522\n",
      "epoch = 300 loss = 4.8399\n",
      "epoch = 310 loss = 4.8281\n",
      "epoch = 320 loss = 4.8167\n",
      "epoch = 330 loss = 4.8058\n",
      "epoch = 340 loss = 4.7953\n",
      "epoch = 350 loss = 4.7853\n",
      "epoch = 360 loss = 4.7756\n",
      "epoch = 370 loss = 4.7663\n",
      "epoch = 380 loss = 4.7574\n",
      "epoch = 390 loss = 4.7488\n",
      "epoch = 400 loss = 4.7406\n",
      "epoch = 410 loss = 4.7327\n",
      "epoch = 420 loss = 4.7251\n",
      "epoch = 430 loss = 4.7178\n",
      "epoch = 440 loss = 4.7108\n",
      "epoch = 450 loss = 4.7040\n",
      "epoch = 460 loss = 4.6976\n",
      "epoch = 470 loss = 4.6913\n",
      "epoch = 480 loss = 4.6854\n",
      "epoch = 490 loss = 4.6796\n"
     ]
    }
   ],
   "source": [
    "#ループ処理\n",
    "\n",
    "for epoch in range(num_epochs):\n",
    "    Yp = pred(X)\n",
    "    loss = mse(Yp, Y)\n",
    "    loss.backward()\n",
    "    \n",
    "    with torch.no_grad():\n",
    "        W -= lr * W.grad\n",
    "        B -= lr * B.grad\n",
    "        \n",
    "        W.grad.zero_()\n",
    "        B.grad.zero_()\n",
    "        \n",
    "    if (epoch %10 == 0):\n",
    "        item = np.array([epoch, loss.item()])\n",
    "        history = np.vstack((history, item))\n",
    "        print(f'epoch = {epoch} loss = {loss:.4f}')"
   ]
  },
  {
   "cell_type": "code",
   "execution_count": 25,
   "id": "13d069ea",
   "metadata": {},
   "outputs": [
    {
     "name": "stdout",
     "output_type": "stream",
     "text": [
      "W =  1.820683\n",
      "B =  0.3675114\n",
      "初期状態：損失：13.3520\n",
      "最終状態：損失：4.6796\n"
     ]
    }
   ],
   "source": [
    "print('W = ', W.data.numpy())\n",
    "print('B = ', B.data.numpy())\n",
    "\n",
    "print(f'初期状態：損失：{history[0,1]:.4f}')\n",
    "print(f'最終状態：損失：{history[-1,1]:.4f}')"
   ]
  },
  {
   "cell_type": "code",
   "execution_count": 26,
   "id": "669416ff",
   "metadata": {},
   "outputs": [
    {
     "name": "stderr",
     "output_type": "stream",
     "text": [
      "/usr/local/lib/python3.6/dist-packages/matplotlib/backends/backend_agg.py:238: RuntimeWarning: Glyph 23398 missing from current font.\n",
      "  font.set_text(s, 0.0, flags=flags)\n",
      "/usr/local/lib/python3.6/dist-packages/matplotlib/backends/backend_agg.py:238: RuntimeWarning: Glyph 32722 missing from current font.\n",
      "  font.set_text(s, 0.0, flags=flags)\n",
      "/usr/local/lib/python3.6/dist-packages/matplotlib/backends/backend_agg.py:238: RuntimeWarning: Glyph 26354 missing from current font.\n",
      "  font.set_text(s, 0.0, flags=flags)\n",
      "/usr/local/lib/python3.6/dist-packages/matplotlib/backends/backend_agg.py:238: RuntimeWarning: Glyph 32218 missing from current font.\n",
      "  font.set_text(s, 0.0, flags=flags)\n",
      "/usr/local/lib/python3.6/dist-packages/matplotlib/backends/backend_agg.py:238: RuntimeWarning: Glyph 32368 missing from current font.\n",
      "  font.set_text(s, 0.0, flags=flags)\n",
      "/usr/local/lib/python3.6/dist-packages/matplotlib/backends/backend_agg.py:238: RuntimeWarning: Glyph 12426 missing from current font.\n",
      "  font.set_text(s, 0.0, flags=flags)\n",
      "/usr/local/lib/python3.6/dist-packages/matplotlib/backends/backend_agg.py:238: RuntimeWarning: Glyph 36820 missing from current font.\n",
      "  font.set_text(s, 0.0, flags=flags)\n",
      "/usr/local/lib/python3.6/dist-packages/matplotlib/backends/backend_agg.py:238: RuntimeWarning: Glyph 12375 missing from current font.\n",
      "  font.set_text(s, 0.0, flags=flags)\n",
      "/usr/local/lib/python3.6/dist-packages/matplotlib/backends/backend_agg.py:238: RuntimeWarning: Glyph 22238 missing from current font.\n",
      "  font.set_text(s, 0.0, flags=flags)\n",
      "/usr/local/lib/python3.6/dist-packages/matplotlib/backends/backend_agg.py:238: RuntimeWarning: Glyph 25968 missing from current font.\n",
      "  font.set_text(s, 0.0, flags=flags)\n",
      "/usr/local/lib/python3.6/dist-packages/matplotlib/backends/backend_agg.py:238: RuntimeWarning: Glyph 25613 missing from current font.\n",
      "  font.set_text(s, 0.0, flags=flags)\n",
      "/usr/local/lib/python3.6/dist-packages/matplotlib/backends/backend_agg.py:238: RuntimeWarning: Glyph 22833 missing from current font.\n",
      "  font.set_text(s, 0.0, flags=flags)\n",
      "/usr/local/lib/python3.6/dist-packages/matplotlib/backends/backend_agg.py:201: RuntimeWarning: Glyph 32368 missing from current font.\n",
      "  font.set_text(s, 0, flags=flags)\n",
      "/usr/local/lib/python3.6/dist-packages/matplotlib/backends/backend_agg.py:201: RuntimeWarning: Glyph 12426 missing from current font.\n",
      "  font.set_text(s, 0, flags=flags)\n",
      "/usr/local/lib/python3.6/dist-packages/matplotlib/backends/backend_agg.py:201: RuntimeWarning: Glyph 36820 missing from current font.\n",
      "  font.set_text(s, 0, flags=flags)\n",
      "/usr/local/lib/python3.6/dist-packages/matplotlib/backends/backend_agg.py:201: RuntimeWarning: Glyph 12375 missing from current font.\n",
      "  font.set_text(s, 0, flags=flags)\n",
      "/usr/local/lib/python3.6/dist-packages/matplotlib/backends/backend_agg.py:201: RuntimeWarning: Glyph 22238 missing from current font.\n",
      "  font.set_text(s, 0, flags=flags)\n",
      "/usr/local/lib/python3.6/dist-packages/matplotlib/backends/backend_agg.py:201: RuntimeWarning: Glyph 25968 missing from current font.\n",
      "  font.set_text(s, 0, flags=flags)\n",
      "/usr/local/lib/python3.6/dist-packages/matplotlib/backends/backend_agg.py:201: RuntimeWarning: Glyph 25613 missing from current font.\n",
      "  font.set_text(s, 0, flags=flags)\n",
      "/usr/local/lib/python3.6/dist-packages/matplotlib/backends/backend_agg.py:201: RuntimeWarning: Glyph 22833 missing from current font.\n",
      "  font.set_text(s, 0, flags=flags)\n",
      "/usr/local/lib/python3.6/dist-packages/matplotlib/backends/backend_agg.py:201: RuntimeWarning: Glyph 23398 missing from current font.\n",
      "  font.set_text(s, 0, flags=flags)\n",
      "/usr/local/lib/python3.6/dist-packages/matplotlib/backends/backend_agg.py:201: RuntimeWarning: Glyph 32722 missing from current font.\n",
      "  font.set_text(s, 0, flags=flags)\n",
      "/usr/local/lib/python3.6/dist-packages/matplotlib/backends/backend_agg.py:201: RuntimeWarning: Glyph 26354 missing from current font.\n",
      "  font.set_text(s, 0, flags=flags)\n",
      "/usr/local/lib/python3.6/dist-packages/matplotlib/backends/backend_agg.py:201: RuntimeWarning: Glyph 32218 missing from current font.\n",
      "  font.set_text(s, 0, flags=flags)\n"
     ]
    },
    {
     "data": {
      "image/png": "[encoded data removed]",
      "text/plain": [
       "<Figure size 432x288 with 1 Axes>"
      ]
     },
     "metadata": {
      "needs_background": "light"
     },
     "output_type": "display_data"
    }
   ],
   "source": [
    "plt.plot(history[:,0], history[:,1], 'b')\n",
    "plt.xlabel('繰り返し回数')\n",
    "plt.ylabel('損失')\n",
    "plt.title('学習曲線')\n",
    "plt.show()"
   ]
  },
  {
   "cell_type": "code",
   "execution_count": 27,
   "id": "0680f6bb",
   "metadata": {},
   "outputs": [
    {
     "ename": "NameError",
     "evalue": "name 'X_range' is not defined",
     "output_type": "error",
     "traceback": [
      "\u001b[0;31m---------------------------------------------------------------------------\u001b[0m",
      "\u001b[0;31mNameError\u001b[0m                                 Traceback (most recent call last)",
      "\u001b[0;32m<ipython-input-27-906ab8254216>\u001b[0m in \u001b[0;36m<module>\u001b[0;34m\u001b[0m\n\u001b[1;32m      2\u001b[0m \u001b[0mplt\u001b[0m\u001b[0;34m.\u001b[0m\u001b[0mxlabel\u001b[0m\u001b[0;34m(\u001b[0m\u001b[0;34m'$X$'\u001b[0m\u001b[0;34m)\u001b[0m\u001b[0;34m\u001b[0m\u001b[0;34m\u001b[0m\u001b[0m\n\u001b[1;32m      3\u001b[0m \u001b[0mplt\u001b[0m\u001b[0;34m.\u001b[0m\u001b[0mylabel\u001b[0m\u001b[0;34m(\u001b[0m\u001b[0;34m'$Y$'\u001b[0m\u001b[0;34m)\u001b[0m\u001b[0;34m\u001b[0m\u001b[0;34m\u001b[0m\u001b[0m\n\u001b[0;32m----> 4\u001b[0;31m \u001b[0mplt\u001b[0m\u001b[0;34m.\u001b[0m\u001b[0mplot\u001b[0m\u001b[0;34m(\u001b[0m\u001b[0mX_range\u001b[0m\u001b[0;34m.\u001b[0m\u001b[0mdata\u001b[0m\u001b[0;34m,\u001b[0m \u001b[0mY_range\u001b[0m\u001b[0;34m.\u001b[0m\u001b[0mdata\u001b[0m\u001b[0;34m,\u001b[0m \u001b[0mlw\u001b[0m\u001b[0;34m=\u001b[0m\u001b[0;36m2\u001b[0m\u001b[0;34m,\u001b[0m \u001b[0mc\u001b[0m\u001b[0;34m=\u001b[0m\u001b[0;34m'b'\u001b[0m\u001b[0;34m)\u001b[0m\u001b[0;34m\u001b[0m\u001b[0;34m\u001b[0m\u001b[0m\n\u001b[0m\u001b[1;32m      5\u001b[0m \u001b[0mplt\u001b[0m\u001b[0;34m.\u001b[0m\u001b[0mshow\u001b[0m\u001b[0;34m(\u001b[0m\u001b[0;34m)\u001b[0m\u001b[0;34m\u001b[0m\u001b[0;34m\u001b[0m\u001b[0m\n",
      "\u001b[0;31mNameError\u001b[0m: name 'X_range' is not defined"
     ]
    },
    {
     "data": {
      "image/png": "[encoded data removed]",
      "text/plain": [
       "<Figure size 432x288 with 1 Axes>"
      ]
     },
     "metadata": {
      "needs_background": "light"
     },
     "output_type": "display_data"
    }
   ],
   "source": [
    "plt.scatter(X, Y, c='k', s=50)\n",
    "plt.xlabel('$X$')\n",
    "plt.ylabel('$Y$')\n",
    "plt.plot(X_range.data, Y_range.data, lw=2, c='b')\n",
    "plt.show()"
   ]
  },
  {
   "cell_type": "code",
   "execution_count": 29,
   "id": "dfcd6bd3",
   "metadata": {},
   "outputs": [],
   "source": [
    "#初期化\n",
    "\n",
    "W = torch.tensor(1.0, requires_grad=True).float()\n",
    "B = torch.tensor(1.0, requires_grad=True).float()\n",
    "\n",
    "num_epochs = 500\n",
    "\n",
    "lr = 0.001\n",
    "\n",
    "import torch.optim as optim\n",
    "optimizer = optim.SGD([W, B], lr=lr)\n",
    "\n",
    "history = np.zeros((0, 2))"
   ]
  },
  {
   "cell_type": "code",
   "execution_count": 30,
   "id": "3fe20875",
   "metadata": {},
   "outputs": [
    {
     "name": "stdout",
     "output_type": "stream",
     "text": [
      "epoch = 0 loss = 13.3520\n",
      "epoch = 10 loss = 10.3855\n",
      "epoch = 20 loss = 8.5173\n",
      "epoch = 30 loss = 7.3364\n",
      "epoch = 40 loss = 6.5858\n",
      "epoch = 50 loss = 6.1047\n",
      "epoch = 60 loss = 5.7927\n",
      "epoch = 70 loss = 5.5868\n",
      "epoch = 80 loss = 5.4476\n",
      "epoch = 90 loss = 5.3507\n",
      "epoch = 100 loss = 5.2805\n",
      "epoch = 110 loss = 5.2275\n",
      "epoch = 120 loss = 5.1855\n",
      "epoch = 130 loss = 5.1507\n",
      "epoch = 140 loss = 5.1208\n",
      "epoch = 150 loss = 5.0943\n",
      "epoch = 160 loss = 5.0703\n",
      "epoch = 170 loss = 5.0480\n",
      "epoch = 180 loss = 5.0271\n",
      "epoch = 190 loss = 5.0074\n",
      "epoch = 200 loss = 4.9887\n",
      "epoch = 210 loss = 4.9708\n",
      "epoch = 220 loss = 4.9537\n",
      "epoch = 230 loss = 4.9373\n",
      "epoch = 240 loss = 4.9217\n",
      "epoch = 250 loss = 4.9066\n",
      "epoch = 260 loss = 4.8922\n",
      "epoch = 270 loss = 4.8783\n",
      "epoch = 280 loss = 4.8650\n",
      "epoch = 290 loss = 4.8522\n",
      "epoch = 300 loss = 4.8399\n",
      "epoch = 310 loss = 4.8281\n",
      "epoch = 320 loss = 4.8167\n",
      "epoch = 330 loss = 4.8058\n",
      "epoch = 340 loss = 4.7953\n",
      "epoch = 350 loss = 4.7853\n",
      "epoch = 360 loss = 4.7756\n",
      "epoch = 370 loss = 4.7663\n",
      "epoch = 380 loss = 4.7574\n",
      "epoch = 390 loss = 4.7488\n",
      "epoch = 400 loss = 4.7406\n",
      "epoch = 410 loss = 4.7327\n",
      "epoch = 420 loss = 4.7251\n",
      "epoch = 430 loss = 4.7178\n",
      "epoch = 440 loss = 4.7108\n",
      "epoch = 450 loss = 4.7040\n",
      "epoch = 460 loss = 4.6976\n",
      "epoch = 470 loss = 4.6913\n",
      "epoch = 480 loss = 4.6854\n",
      "epoch = 490 loss = 4.6796\n"
     ]
    }
   ],
   "source": [
    "#ループ処理\n",
    "\n",
    "for epoch in range(num_epochs):\n",
    "    Yp = pred(X)\n",
    "    loss = mse(Yp, Y)\n",
    "    loss.backward()\n",
    "    \n",
    "    optimizer.step()\n",
    "    optimizer.zero_grad()\n",
    "    \n",
    "    with torch.no_grad():\n",
    "        W -= lr * W.grad\n",
    "        B -= lr * B.grad\n",
    "        \n",
    "        W.grad.zero_()\n",
    "        B.grad.zero_()\n",
    "        \n",
    "    if (epoch %10 == 0):\n",
    "        item = np.array([epoch, loss.item()])\n",
    "        history = np.vstack((history, item))\n",
    "        print(f'epoch = {epoch} loss = {loss:.4f}')"
   ]
  },
  {
   "cell_type": "code",
   "execution_count": 33,
   "id": "0c4a9f34",
   "metadata": {},
   "outputs": [
    {
     "name": "stdout",
     "output_type": "stream",
     "text": [
      " W =  1.820683\n",
      " B =  0.3675114\n",
      "初期状態：　損失：13.3520\n",
      "最終状態：　損失：4.6796\n"
     ]
    }
   ],
   "source": [
    "# パラメータの最終値\n",
    "print(' W = ', W.data.numpy())\n",
    "print(' B = ', B.data.numpy())\n",
    "\n",
    "# 損失の確認\n",
    "print(f'初期状態：　損失：{history[0, 1]:.4f}')\n",
    "print(f'最終状態：　損失：{history[-1,1]:.4f}')"
   ]
  },
  {
   "cell_type": "code",
   "execution_count": 34,
   "id": "f81f654b",
   "metadata": {},
   "outputs": [],
   "source": [
    "with torch.no_grad():\n",
    "    # パラメータ修正\n",
    "    W -= lr * W.grad\n",
    "    B -= lr * B.grad"
   ]
  },
  {
   "cell_type": "code",
   "execution_count": 35,
   "id": "1a725110",
   "metadata": {},
   "outputs": [],
   "source": [
    "# 初期化\n",
    "\n",
    "# WとBを変数として扱う\n",
    "W = torch.tensor(1.0, requires_grad=True).float()\n",
    "B = torch.tensor(1.0, requires_grad=True).float()\n",
    "\n",
    "# 繰り返し回数\n",
    "num_epochs = 500\n",
    "\n",
    "# 学習率\n",
    "lr = 0.001\n",
    "\n",
    "# optimizer として SGD を指定する\n",
    "import torch.optim as optim\n",
    "optimizer = optim.SGD([W, B], lr = lr, momentum=0.9)\n",
    "\n",
    "# 記録用配列初期化\n",
    "history2 = np.zeros((0, 2))"
   ]
  },
  {
   "cell_type": "code",
   "execution_count": 38,
   "id": "52594e77",
   "metadata": {},
   "outputs": [
    {
     "name": "stderr",
     "output_type": "stream",
     "text": [
      "/usr/local/lib/python3.6/dist-packages/matplotlib/backends/backend_agg.py:238: RuntimeWarning: Glyph 23398 missing from current font.\n",
      "  font.set_text(s, 0.0, flags=flags)\n",
      "/usr/local/lib/python3.6/dist-packages/matplotlib/backends/backend_agg.py:238: RuntimeWarning: Glyph 32722 missing from current font.\n",
      "  font.set_text(s, 0.0, flags=flags)\n",
      "/usr/local/lib/python3.6/dist-packages/matplotlib/backends/backend_agg.py:238: RuntimeWarning: Glyph 26354 missing from current font.\n",
      "  font.set_text(s, 0.0, flags=flags)\n",
      "/usr/local/lib/python3.6/dist-packages/matplotlib/backends/backend_agg.py:238: RuntimeWarning: Glyph 32218 missing from current font.\n",
      "  font.set_text(s, 0.0, flags=flags)\n",
      "/usr/local/lib/python3.6/dist-packages/matplotlib/backends/backend_agg.py:238: RuntimeWarning: Glyph 65288 missing from current font.\n",
      "  font.set_text(s, 0.0, flags=flags)\n",
      "/usr/local/lib/python3.6/dist-packages/matplotlib/backends/backend_agg.py:238: RuntimeWarning: Glyph 25613 missing from current font.\n",
      "  font.set_text(s, 0.0, flags=flags)\n",
      "/usr/local/lib/python3.6/dist-packages/matplotlib/backends/backend_agg.py:238: RuntimeWarning: Glyph 22833 missing from current font.\n",
      "  font.set_text(s, 0.0, flags=flags)\n",
      "/usr/local/lib/python3.6/dist-packages/matplotlib/backends/backend_agg.py:238: RuntimeWarning: Glyph 65289 missing from current font.\n",
      "  font.set_text(s, 0.0, flags=flags)\n",
      "/usr/local/lib/python3.6/dist-packages/matplotlib/backends/backend_agg.py:238: RuntimeWarning: Glyph 32368 missing from current font.\n",
      "  font.set_text(s, 0.0, flags=flags)\n",
      "/usr/local/lib/python3.6/dist-packages/matplotlib/backends/backend_agg.py:238: RuntimeWarning: Glyph 12426 missing from current font.\n",
      "  font.set_text(s, 0.0, flags=flags)\n",
      "/usr/local/lib/python3.6/dist-packages/matplotlib/backends/backend_agg.py:238: RuntimeWarning: Glyph 36820 missing from current font.\n",
      "  font.set_text(s, 0.0, flags=flags)\n",
      "/usr/local/lib/python3.6/dist-packages/matplotlib/backends/backend_agg.py:238: RuntimeWarning: Glyph 12375 missing from current font.\n",
      "  font.set_text(s, 0.0, flags=flags)\n",
      "/usr/local/lib/python3.6/dist-packages/matplotlib/backends/backend_agg.py:238: RuntimeWarning: Glyph 22238 missing from current font.\n",
      "  font.set_text(s, 0.0, flags=flags)\n",
      "/usr/local/lib/python3.6/dist-packages/matplotlib/backends/backend_agg.py:238: RuntimeWarning: Glyph 25968 missing from current font.\n",
      "  font.set_text(s, 0.0, flags=flags)\n",
      "/usr/local/lib/python3.6/dist-packages/matplotlib/backends/backend_agg.py:238: RuntimeWarning: Glyph 12487 missing from current font.\n",
      "  font.set_text(s, 0.0, flags=flags)\n",
      "/usr/local/lib/python3.6/dist-packages/matplotlib/backends/backend_agg.py:238: RuntimeWarning: Glyph 12501 missing from current font.\n",
      "  font.set_text(s, 0.0, flags=flags)\n",
      "/usr/local/lib/python3.6/dist-packages/matplotlib/backends/backend_agg.py:238: RuntimeWarning: Glyph 12457 missing from current font.\n",
      "  font.set_text(s, 0.0, flags=flags)\n",
      "/usr/local/lib/python3.6/dist-packages/matplotlib/backends/backend_agg.py:238: RuntimeWarning: Glyph 12523 missing from current font.\n",
      "  font.set_text(s, 0.0, flags=flags)\n",
      "/usr/local/lib/python3.6/dist-packages/matplotlib/backends/backend_agg.py:238: RuntimeWarning: Glyph 12488 missing from current font.\n",
      "  font.set_text(s, 0.0, flags=flags)\n",
      "/usr/local/lib/python3.6/dist-packages/matplotlib/backends/backend_agg.py:238: RuntimeWarning: Glyph 35373 missing from current font.\n",
      "  font.set_text(s, 0.0, flags=flags)\n",
      "/usr/local/lib/python3.6/dist-packages/matplotlib/backends/backend_agg.py:238: RuntimeWarning: Glyph 23450 missing from current font.\n",
      "  font.set_text(s, 0.0, flags=flags)\n",
      "/usr/local/lib/python3.6/dist-packages/matplotlib/backends/backend_agg.py:201: RuntimeWarning: Glyph 32368 missing from current font.\n",
      "  font.set_text(s, 0, flags=flags)\n",
      "/usr/local/lib/python3.6/dist-packages/matplotlib/backends/backend_agg.py:201: RuntimeWarning: Glyph 12426 missing from current font.\n",
      "  font.set_text(s, 0, flags=flags)\n",
      "/usr/local/lib/python3.6/dist-packages/matplotlib/backends/backend_agg.py:201: RuntimeWarning: Glyph 36820 missing from current font.\n",
      "  font.set_text(s, 0, flags=flags)\n",
      "/usr/local/lib/python3.6/dist-packages/matplotlib/backends/backend_agg.py:201: RuntimeWarning: Glyph 12375 missing from current font.\n",
      "  font.set_text(s, 0, flags=flags)\n",
      "/usr/local/lib/python3.6/dist-packages/matplotlib/backends/backend_agg.py:201: RuntimeWarning: Glyph 22238 missing from current font.\n",
      "  font.set_text(s, 0, flags=flags)\n",
      "/usr/local/lib/python3.6/dist-packages/matplotlib/backends/backend_agg.py:201: RuntimeWarning: Glyph 25968 missing from current font.\n",
      "  font.set_text(s, 0, flags=flags)\n",
      "/usr/local/lib/python3.6/dist-packages/matplotlib/backends/backend_agg.py:201: RuntimeWarning: Glyph 25613 missing from current font.\n",
      "  font.set_text(s, 0, flags=flags)\n",
      "/usr/local/lib/python3.6/dist-packages/matplotlib/backends/backend_agg.py:201: RuntimeWarning: Glyph 22833 missing from current font.\n",
      "  font.set_text(s, 0, flags=flags)\n",
      "/usr/local/lib/python3.6/dist-packages/matplotlib/backends/backend_agg.py:201: RuntimeWarning: Glyph 23398 missing from current font.\n",
      "  font.set_text(s, 0, flags=flags)\n",
      "/usr/local/lib/python3.6/dist-packages/matplotlib/backends/backend_agg.py:201: RuntimeWarning: Glyph 32722 missing from current font.\n",
      "  font.set_text(s, 0, flags=flags)\n",
      "/usr/local/lib/python3.6/dist-packages/matplotlib/backends/backend_agg.py:201: RuntimeWarning: Glyph 26354 missing from current font.\n",
      "  font.set_text(s, 0, flags=flags)\n",
      "/usr/local/lib/python3.6/dist-packages/matplotlib/backends/backend_agg.py:201: RuntimeWarning: Glyph 32218 missing from current font.\n",
      "  font.set_text(s, 0, flags=flags)\n",
      "/usr/local/lib/python3.6/dist-packages/matplotlib/backends/backend_agg.py:201: RuntimeWarning: Glyph 65288 missing from current font.\n",
      "  font.set_text(s, 0, flags=flags)\n",
      "/usr/local/lib/python3.6/dist-packages/matplotlib/backends/backend_agg.py:201: RuntimeWarning: Glyph 65289 missing from current font.\n",
      "  font.set_text(s, 0, flags=flags)\n",
      "/usr/local/lib/python3.6/dist-packages/matplotlib/backends/backend_agg.py:201: RuntimeWarning: Glyph 12487 missing from current font.\n",
      "  font.set_text(s, 0, flags=flags)\n",
      "/usr/local/lib/python3.6/dist-packages/matplotlib/backends/backend_agg.py:201: RuntimeWarning: Glyph 12501 missing from current font.\n",
      "  font.set_text(s, 0, flags=flags)\n",
      "/usr/local/lib/python3.6/dist-packages/matplotlib/backends/backend_agg.py:201: RuntimeWarning: Glyph 12457 missing from current font.\n",
      "  font.set_text(s, 0, flags=flags)\n",
      "/usr/local/lib/python3.6/dist-packages/matplotlib/backends/backend_agg.py:201: RuntimeWarning: Glyph 12523 missing from current font.\n",
      "  font.set_text(s, 0, flags=flags)\n",
      "/usr/local/lib/python3.6/dist-packages/matplotlib/backends/backend_agg.py:201: RuntimeWarning: Glyph 12488 missing from current font.\n",
      "  font.set_text(s, 0, flags=flags)\n",
      "/usr/local/lib/python3.6/dist-packages/matplotlib/backends/backend_agg.py:201: RuntimeWarning: Glyph 35373 missing from current font.\n",
      "  font.set_text(s, 0, flags=flags)\n",
      "/usr/local/lib/python3.6/dist-packages/matplotlib/backends/backend_agg.py:201: RuntimeWarning: Glyph 23450 missing from current font.\n",
      "  font.set_text(s, 0, flags=flags)\n"
     ]
    },
    {
     "data": {
      "image/png": "[encoded data removed]",
      "text/plain": [
       "<Figure size 432x288 with 1 Axes>"
      ]
     },
     "metadata": {
      "needs_background": "light"
     },
     "output_type": "display_data"
    }
   ],
   "source": [
    "# 学習曲線の表示\n",
    "\n",
    "plt.plot(history[:,0], history[:,1], 'b', label = 'デフォルト設定')\n",
    "plt.xlabel(\"繰り返し回数\")\n",
    "plt.ylabel('損失')\n",
    "plt.legend()\n",
    "plt.title('学習曲線（損失）')\n",
    "plt.show()"
   ]
  },
  {
   "cell_type": "code",
   "execution_count": null,
   "id": "a80f6f7b",
   "metadata": {},
   "outputs": [],
   "source": []
  }
 ],
 "metadata": {
  "kernelspec": {
   "display_name": "Python 3",
   "language": "python",
   "name": "python3"
  },
  "language_info": {
   "codemirror_mode": {
    "name": "ipython",
    "version": 3
   },
   "file_extension": ".py",
   "mimetype": "text/x-python",
   "name": "python",
   "nbconvert_exporter": "python",
   "pygments_lexer": "ipython3",
   "version": "3.6.9"
  }
 },
 "nbformat": 4,
 "nbformat_minor": 5
}
