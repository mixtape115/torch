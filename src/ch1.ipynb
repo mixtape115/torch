{
 "cells": [
  {
   "cell_type": "code",
   "execution_count": 1,
   "id": "f8a704ec",
   "metadata": {},
   "outputs": [],
   "source": [
    "%matplotlib inline\n",
    "import numpy as np\n",
    "import matplotlib.pyplot as plt\n",
    "import japanize_matplotlib\n",
    "import torch"
   ]
  },
  {
   "cell_type": "code",
   "execution_count": 2,
   "id": "35c94cf7",
   "metadata": {},
   "outputs": [],
   "source": [
    "plt.rcParams['font.size'] = 14"
   ]
  },
  {
   "cell_type": "code",
   "execution_count": 3,
   "id": "f76bdb8c",
   "metadata": {},
   "outputs": [],
   "source": [
    "import warnings\n",
    "warnings.simplefilter('ignore')"
   ]
  },
  {
   "cell_type": "code",
   "execution_count": 4,
   "id": "a0f682cb",
   "metadata": {},
   "outputs": [
    {
     "name": "stdout",
     "output_type": "stream",
     "text": [
      "cuda:0\n"
     ]
    }
   ],
   "source": [
    "device = torch.device(\"cuda:0\" if torch.cuda.is_available() else \"cpu\")\n",
    "print(device)"
   ]
  },
  {
   "cell_type": "code",
   "execution_count": 5,
   "id": "313f2172",
   "metadata": {},
   "outputs": [
    {
     "name": "stdout",
     "output_type": "stream",
     "text": [
      "fatal: destination path 'pythonlibs' already exists and is not an empty directory.\n",
      "Common Library for PyTorch\n",
      "Author: M. Akaishi\n"
     ]
    }
   ],
   "source": [
    "!git clone https://github.com/makaishi2/pythonlibs.git\n",
    "    \n",
    "from pythonlibs.torch_lib1 import *\n",
    "\n",
    "print(README)"
   ]
  },
  {
   "cell_type": "code",
   "execution_count": 6,
   "id": "a0b6962e",
   "metadata": {},
   "outputs": [
    {
     "name": "stdout",
     "output_type": "stream",
     "text": [
      "Untitled.ipynb\tdog_wolf  pythonlibs\n",
      "/bin/sh: 1: tree: not found\n"
     ]
    }
   ],
   "source": [
    "!ls\n",
    "!tree /pythonlibs/"
   ]
  },
  {
   "cell_type": "code",
   "execution_count": 9,
   "id": "1a475616",
   "metadata": {},
   "outputs": [],
   "source": [
    "from torchvision import models\n",
    "net = models.vgg19_bn(pretrained = True)\n",
    "\n",
    "for param in net.parameters():\n",
    "    param.requires_grad = False\n",
    "    \n",
    "torch_seed()\n",
    "    \n",
    "in_features = net.classifier[6].in_features\n",
    "net.classifier[6] = nn.Linear(in_features, 2)\n",
    "net.avgpool = nn.Identity()\n",
    "\n",
    "net = net.to(device)\n",
    "\n",
    "lr = 0.001\n",
    "\n",
    "criterion = nn.CrossEntropyLoss()\n",
    "\n",
    "optimizer = optim.SGD(net.classifier[6].parameters(), lr = lr, momentum = 0.9)\n",
    "\n",
    "history = np.zeros((0, 5))"
   ]
  },
  {
   "cell_type": "code",
   "execution_count": 10,
   "id": "eaf90737",
   "metadata": {},
   "outputs": [
    {
     "ename": "NameError",
     "evalue": "name 'train_loader' is not defined",
     "output_type": "error",
     "traceback": [
      "\u001b[0;31m---------------------------------------------------------------------------\u001b[0m",
      "\u001b[0;31mNameError\u001b[0m                                 Traceback (most recent call last)",
      "\u001b[0;32m<ipython-input-10-bdc8a9acd55c>\u001b[0m in \u001b[0;36m<module>\u001b[0;34m\u001b[0m\n\u001b[1;32m      1\u001b[0m \u001b[0mnum_epochs\u001b[0m \u001b[0;34m=\u001b[0m \u001b[0;36m10\u001b[0m\u001b[0;34m\u001b[0m\u001b[0;34m\u001b[0m\u001b[0m\n\u001b[1;32m      2\u001b[0m \u001b[0;34m\u001b[0m\u001b[0m\n\u001b[0;32m----> 3\u001b[0;31m \u001b[0mhistory\u001b[0m \u001b[0;34m=\u001b[0m \u001b[0mfit\u001b[0m\u001b[0;34m(\u001b[0m\u001b[0mnet\u001b[0m\u001b[0;34m,\u001b[0m \u001b[0moptimizer\u001b[0m\u001b[0;34m,\u001b[0m \u001b[0mcriterion\u001b[0m\u001b[0;34m,\u001b[0m \u001b[0mnum_epochs\u001b[0m\u001b[0;34m,\u001b[0m \u001b[0mtrain_loader\u001b[0m\u001b[0;34m,\u001b[0m \u001b[0mtest_loader\u001b[0m\u001b[0;34m,\u001b[0m \u001b[0mdevice\u001b[0m\u001b[0;34m,\u001b[0m \u001b[0mhistory\u001b[0m\u001b[0;34m)\u001b[0m\u001b[0;34m\u001b[0m\u001b[0;34m\u001b[0m\u001b[0m\n\u001b[0m",
      "\u001b[0;31mNameError\u001b[0m: name 'train_loader' is not defined"
     ]
    }
   ],
   "source": []
  },
  {
   "cell_type": "code",
   "execution_count": 11,
   "id": "4b7f8a96",
   "metadata": {},
   "outputs": [],
   "source": [
    "x = np.array([5, 7, 9])\n",
    "\n",
    "y = x"
   ]
  },
  {
   "cell_type": "code",
   "execution_count": 12,
   "id": "06821837",
   "metadata": {},
   "outputs": [
    {
     "name": "stdout",
     "output_type": "stream",
     "text": [
      "[5 7 9]\n",
      "[5 7 9]\n"
     ]
    }
   ],
   "source": [
    "print(x)\n",
    "print(y)"
   ]
  },
  {
   "cell_type": "code",
   "execution_count": 13,
   "id": "25dc3688",
   "metadata": {},
   "outputs": [],
   "source": [
    "def f(x):\n",
    "    return (2 * x**2 + 2)"
   ]
  },
  {
   "cell_type": "code",
   "execution_count": 15,
   "id": "a8649cb4",
   "metadata": {},
   "outputs": [
    {
     "name": "stdout",
     "output_type": "stream",
     "text": [
      "[-2.   -1.75 -1.5  -1.25 -1.   -0.75 -0.5  -0.25  0.    0.25  0.5   0.75\n",
      "  1.    1.25  1.5   1.75  2.  ]\n"
     ]
    }
   ],
   "source": [
    "x = np.arange(-2, 2.1, 0.25)\n",
    "print(x)"
   ]
  },
  {
   "cell_type": "code",
   "execution_count": 16,
   "id": "9426f88a",
   "metadata": {},
   "outputs": [
    {
     "name": "stdout",
     "output_type": "stream",
     "text": [
      "[10.     8.125  6.5    5.125  4.     3.125  2.5    2.125  2.     2.125\n",
      "  2.5    3.125  4.     5.125  6.5    8.125 10.   ]\n"
     ]
    }
   ],
   "source": [
    "y = f(x)\n",
    "print(y)"
   ]
  },
  {
   "cell_type": "code",
   "execution_count": 18,
   "id": "453b2b55",
   "metadata": {},
   "outputs": [
    {
     "data": {
      "image/png": "[encoded data removed]",
      "text/plain": [
       "<Figure size 432x288 with 1 Axes>"
      ]
     },
     "metadata": {
      "needs_background": "light"
     },
     "output_type": "display_data"
    }
   ],
   "source": [
    "plt.plot(x, y)\n",
    "plt.show()"
   ]
  },
  {
   "cell_type": "code",
   "execution_count": 19,
   "id": "da66fea0",
   "metadata": {},
   "outputs": [],
   "source": [
    "def f1(x):\n",
    "    return(x**2)\n",
    "\n",
    "def f2(x):\n",
    "    return(x*2)\n",
    "\n",
    "def f3(x):\n",
    "    return(x+2)\n",
    "\n",
    "x1 = f1(x)\n",
    "x2 = f2(x1)\n",
    "y = f3(x2)"
   ]
  },
  {
   "cell_type": "code",
   "execution_count": 20,
   "id": "8cf4f696",
   "metadata": {},
   "outputs": [
    {
     "data": {
      "text/plain": [
       "[<matplotlib.lines.Line2D at 0x7f02c57cdcf8>]"
      ]
     },
     "execution_count": 20,
     "metadata": {},
     "output_type": "execute_result"
    },
    {
     "data": {
      "image/png": "[encoded data removed]",
      "text/plain": [
       "<Figure size 432x288 with 1 Axes>"
      ]
     },
     "metadata": {
      "needs_background": "light"
     },
     "output_type": "display_data"
    }
   ],
   "source": [
    "plt.plot(x, y)"
   ]
  },
  {
   "cell_type": "code",
   "execution_count": 23,
   "id": "33e165ff",
   "metadata": {},
   "outputs": [],
   "source": [
    "def fdiff(f):\n",
    "    def diff(x):\n",
    "        h = 1e-6\n",
    "        return (f(x+h) - f(x-h))/(2*h)\n",
    "    return diff"
   ]
  },
  {
   "cell_type": "code",
   "execution_count": 24,
   "id": "db4f0da5",
   "metadata": {},
   "outputs": [
    {
     "name": "stdout",
     "output_type": "stream",
     "text": [
      "[-8. -7. -6. -5. -4. -3. -2. -1.  0.  1.  2.  3.  4.  5.  6.  7.  8.]\n"
     ]
    }
   ],
   "source": [
    "diff = fdiff(f)\n",
    "\n",
    "y_dash = diff(x)\n",
    "\n",
    "print(y_dash)"
   ]
  },
  {
   "cell_type": "code",
   "execution_count": 25,
   "id": "c3cf5df2",
   "metadata": {},
   "outputs": [
    {
     "data": {
      "image/png": "[encoded data removed]",
      "text/plain": [
       "<Figure size 432x288 with 1 Axes>"
      ]
     },
     "metadata": {
      "needs_background": "light"
     },
     "output_type": "display_data"
    }
   ],
   "source": [
    "plt.plot(x, y, label= r'y = f(x)', c='b')\n",
    "plt.plot(x, y_dash, label=r\"y = f'(x)\", c='k')\n",
    "plt.legend()\n",
    "plt.show()"
   ]
  },
  {
   "cell_type": "code",
   "execution_count": 26,
   "id": "ed99e29b",
   "metadata": {},
   "outputs": [],
   "source": [
    "def g(x):\n",
    "    return 1/(1+np.exp(-x))"
   ]
  },
  {
   "cell_type": "code",
   "execution_count": 27,
   "id": "28668a72",
   "metadata": {},
   "outputs": [
    {
     "name": "stdout",
     "output_type": "stream",
     "text": [
      "[0.11920292 0.1480472  0.18242552 0.22270014 0.26894142 0.3208213\n",
      " 0.37754067 0.4378235  0.5        0.5621765  0.62245933 0.6791787\n",
      " 0.73105858 0.77729986 0.81757448 0.8519528  0.88079708]\n"
     ]
    }
   ],
   "source": [
    "y = g(x)\n",
    "print(y)"
   ]
  },
  {
   "cell_type": "code",
   "execution_count": 28,
   "id": "2635d475",
   "metadata": {},
   "outputs": [
    {
     "data": {
      "image/png": "[encoded data removed]",
      "text/plain": [
       "<Figure size 432x288 with 1 Axes>"
      ]
     },
     "metadata": {
      "needs_background": "light"
     },
     "output_type": "display_data"
    }
   ],
   "source": [
    "plt.plot(x, y)\n",
    "plt.show()"
   ]
  },
  {
   "cell_type": "code",
   "execution_count": 29,
   "id": "affcf4e6",
   "metadata": {},
   "outputs": [
    {
     "name": "stdout",
     "output_type": "stream",
     "text": [
      "[0.10499359 0.12612923 0.14914645 0.17310479 0.19661193 0.21789499\n",
      " 0.23500371 0.24613408 0.25       0.24613408 0.23500371 0.21789499\n",
      " 0.19661193 0.17310479 0.14914645 0.12612923 0.10499359]\n"
     ]
    }
   ],
   "source": [
    "diff = fdiff(g)\n",
    "\n",
    "y_dash = diff(x)\n",
    "\n",
    "print(y_dash)"
   ]
  },
  {
   "cell_type": "code",
   "execution_count": 43,
   "id": "46dc2fd5",
   "metadata": {},
   "outputs": [],
   "source": [
    "import matplotlib.pyplot as plt\n",
    "\n",
    "import matplotlib.patches as patches\n",
    "\n",
    "class Point:\n",
    "    def __init__(self, x, y):\n",
    "        self.x = x\n",
    "        self.y = y\n",
    "    \n",
    "    def draw(self):\n",
    "        plt.plot(self.x, self.y, marker='o', markersize=10, c='k')"
   ]
  },
  {
   "cell_type": "code",
   "execution_count": 31,
   "id": "c317f7b0",
   "metadata": {},
   "outputs": [],
   "source": [
    "p1 = Point(2,3)\n",
    "p2 = Point(-1, -2)"
   ]
  },
  {
   "cell_type": "code",
   "execution_count": 33,
   "id": "74dc2a93",
   "metadata": {},
   "outputs": [
    {
     "name": "stdout",
     "output_type": "stream",
     "text": [
      "2 3\n",
      "-1 -2\n"
     ]
    }
   ],
   "source": [
    "print(p1.x, p1.y)\n",
    "print(p2.x, p2.y)"
   ]
  },
  {
   "cell_type": "code",
   "execution_count": 34,
   "id": "ac59a9eb",
   "metadata": {},
   "outputs": [
    {
     "data": {
      "image/png": "[encoded data removed]",
      "text/plain": [
       "<Figure size 432x288 with 1 Axes>"
      ]
     },
     "metadata": {
      "needs_background": "light"
     },
     "output_type": "display_data"
    }
   ],
   "source": [
    "p1.draw()\n",
    "p2.draw()\n",
    "plt.xlim(-4, 4)\n",
    "plt.ylim(-4, 4)\n",
    "plt.show()"
   ]
  },
  {
   "cell_type": "code",
   "execution_count": 37,
   "id": "0df2df16",
   "metadata": {},
   "outputs": [],
   "source": [
    "class Circle1(Point):\n",
    "    def __init__(self, x, y, r):\n",
    "        super().__init__(x, y)\n",
    "        self.r = r"
   ]
  },
  {
   "cell_type": "code",
   "execution_count": 38,
   "id": "3b789cf7",
   "metadata": {},
   "outputs": [
    {
     "name": "stdout",
     "output_type": "stream",
     "text": [
      "1 0 2\n"
     ]
    }
   ],
   "source": [
    "c1_1 = Circle1(1, 0, 2)\n",
    "print(c1_1.x, c1_1.y, c1_1.r)"
   ]
  },
  {
   "cell_type": "code",
   "execution_count": 39,
   "id": "f2a278ab",
   "metadata": {},
   "outputs": [
    {
     "data": {
      "image/png": "[encoded data removed]",
      "text/plain": [
       "<Figure size 432x288 with 1 Axes>"
      ]
     },
     "metadata": {
      "needs_background": "light"
     },
     "output_type": "display_data"
    }
   ],
   "source": [
    "ax = plt.subplot()\n",
    "p1.draw()\n",
    "p2.draw()\n",
    "c1_1.draw()\n",
    "plt.xlim(-4, 4)\n",
    "plt.ylim(-4, 4)\n",
    "plt.show()"
   ]
  },
  {
   "cell_type": "code",
   "execution_count": 40,
   "id": "11f7935c",
   "metadata": {},
   "outputs": [],
   "source": [
    "class Circle2(Point):\n",
    "    def __init__(self, x, y, r):\n",
    "        super().__init__(x, y)\n",
    "        self.r = r\n",
    "        \n",
    "    def draw(self):\n",
    "        c = patches.Circle(xy = (self.x, self.y), radius = self.r, fc='b', ec='k')\n",
    "        ax.add_patch(c)"
   ]
  },
  {
   "cell_type": "code",
   "execution_count": 41,
   "id": "ba790629",
   "metadata": {},
   "outputs": [],
   "source": [
    "c2_1 = Circle2(1, 0, 2)"
   ]
  },
  {
   "cell_type": "code",
   "execution_count": 44,
   "id": "d0a60c30",
   "metadata": {},
   "outputs": [
    {
     "data": {
      "image/png": "[encoded data removed]",
      "text/plain": [
       "<Figure size 432x288 with 1 Axes>"
      ]
     },
     "metadata": {
      "needs_background": "light"
     },
     "output_type": "display_data"
    }
   ],
   "source": [
    "ax = plt.subplot()\n",
    "p1.draw()\n",
    "p2.draw()\n",
    "c2_1.draw()\n",
    "plt.xlim(-4, 4)\n",
    "plt.ylim(-4, 4)\n",
    "plt.show()"
   ]
  },
  {
   "cell_type": "code",
   "execution_count": null,
   "id": "ce010ddc",
   "metadata": {},
   "outputs": [],
   "source": []
  }
 ],
 "metadata": {
  "kernelspec": {
   "display_name": "Python 3",
   "language": "python",
   "name": "python3"
  },
  "language_info": {
   "codemirror_mode": {
    "name": "ipython",
    "version": 3
   },
   "file_extension": ".py",
   "mimetype": "text/x-python",
   "name": "python",
   "nbconvert_exporter": "python",
   "pygments_lexer": "ipython3",
   "version": "3.6.9"
  }
 },
 "nbformat": 4,
 "nbformat_minor": 5
}
